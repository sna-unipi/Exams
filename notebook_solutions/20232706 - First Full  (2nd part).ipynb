{
 "cells": [
  {
   "cell_type": "markdown",
   "id": "4b668bd4",
   "metadata": {},
   "source": [
    "# Social Network Analysis @ UNIPI\n",
    "### 27/06/2023"
   ]
  },
  {
   "cell_type": "code",
   "execution_count": 1,
   "id": "62bddadb",
   "metadata": {},
   "outputs": [],
   "source": [
    "import warnings\n",
    "warnings.filterwarnings('ignore')\n",
    "\n",
    "import networkx as nx\n",
    "%matplotlib inline"
   ]
  },
  {
   "cell_type": "markdown",
   "id": "7fbaac97",
   "metadata": {},
   "source": [
    "# Second Half"
   ]
  },
  {
   "cell_type": "markdown",
   "id": "bd0091d1",
   "metadata": {},
   "source": [
    "## Exercise 1: Community Evaluation [4 points]\n",
    "\n",
    "Given the Graph G in Figure 1, compare the following partitions:\n",
    "\n",
    "- P1: [ [A,B,C,D,E,F], [G,H,I] ]\n",
    "- P2: [ [B,C,D,E,F], [A,G,H,I] ]\n",
    "\n",
    "Which partition is the best with respect to Modularity? and with respect to Conductance?"
   ]
  },
  {
   "cell_type": "code",
   "execution_count": 2,
   "id": "2af5149c",
   "metadata": {},
   "outputs": [
    {
     "data": {
      "image/png": "[encoded data removed]",
      "text/plain": [
       "<Figure size 432x288 with 1 Axes>"
      ]
     },
     "metadata": {},
     "output_type": "display_data"
    }
   ],
   "source": [
    "g = nx.Graph()\n",
    "\n",
    "g.add_edge('A', 'B')\n",
    "g.add_edge('A', 'C')\n",
    "g.add_edge('A', 'D')\n",
    "g.add_edge('A', 'E')\n",
    "g.add_edge('A', 'F')\n",
    "g.add_edge('A', 'G')\n",
    "g.add_edge('B', 'C')\n",
    "g.add_edge('B', 'D')\n",
    "g.add_edge('B', 'E')\n",
    "g.add_edge('B', 'F')\n",
    "g.add_edge('G', 'H')\n",
    "g.add_edge('G', 'A')\n",
    "g.add_edge('H', 'A')\n",
    "g.add_edge('A', 'I')\n",
    "g.add_edge('H', 'I')\n",
    "\n",
    "# Set the positions of nodes for visualization\n",
    "pos = nx.spring_layout(g)\n",
    "\n",
    "# Draw the graph\n",
    "nx.draw(g, pos, with_labels=True, edge_color='gray')\n",
    "nodes = nx.draw_networkx_nodes(g, pos, node_size=500, node_color='white')\n",
    "# Set edge color to red\n",
    "nodes.set_edgecolor('black')"
   ]
  },
  {
   "cell_type": "code",
   "execution_count": 3,
   "id": "26c9329a",
   "metadata": {},
   "outputs": [],
   "source": [
    "p1 = [['A','B','C','D','E','F'], ['G','H', 'I']]\n",
    "p2 = [['B','C','D','E','F'], ['A', 'G', 'H', 'I']]"
   ]
  },
  {
   "cell_type": "code",
   "execution_count": 4,
   "id": "6f90a157",
   "metadata": {},
   "outputs": [],
   "source": [
    "def modularity(graph, community):\n",
    "    vc = len(community)\n",
    "    e = graph.number_of_edges()\n",
    "    degC = sum([i[1] for i in graph.degree(community)])\n",
    "    return ((vc/e) - (degC/(2*e)))**2\n",
    "\n",
    "def conductance(graph, community):\n",
    "    gs = nx.subgraph(graph, community)\n",
    "    ec = gs.number_of_edges()\n",
    "    eoc = sum([len(list(graph.neighbors(u)))-len(list(gs.neighbors(u))) for u in community])\n",
    "    return (2*eoc)/((2*ec)+eoc)"
   ]
  },
  {
   "cell_type": "markdown",
   "id": "72ed21de",
   "metadata": {},
   "source": [
    "### Modularity"
   ]
  },
  {
   "cell_type": "code",
   "execution_count": 5,
   "id": "719a3be3",
   "metadata": {},
   "outputs": [
    {
     "data": {
      "text/plain": [
       "'P1 - C1: 0.10331632653061226 C2: 0.0012755102040816334'"
      ]
     },
     "execution_count": 5,
     "metadata": {},
     "output_type": "execute_result"
    }
   ],
   "source": [
    "f\"P1 - C1: {modularity(g, p1[0])} C2: {modularity(g, p1[1])}\""
   ]
  },
  {
   "cell_type": "code",
   "execution_count": 6,
   "id": "bff26668",
   "metadata": {},
   "outputs": [
    {
     "data": {
      "text/plain": [
       "'P2 - C1: 0.011479591836734696 C2: 0.0625'"
      ]
     },
     "execution_count": 6,
     "metadata": {},
     "output_type": "execute_result"
    }
   ],
   "source": [
    "f\"P2 - C1: {modularity(g, p2[0])} C2: {modularity(g, p2[1])}\""
   ]
  },
  {
   "cell_type": "code",
   "execution_count": 7,
   "id": "f3b37e64",
   "metadata": {},
   "outputs": [
    {
     "data": {
      "text/plain": [
       "0.011479591836734696"
      ]
     },
     "execution_count": 7,
     "metadata": {},
     "output_type": "execute_result"
    }
   ],
   "source": [
    "m1 = min(modularity(g, p1[0]), modularity(g, p1[1]))\n",
    "m2 = min(modularity(g, p2[0]), modularity(g, p2[1]))\n",
    "\n",
    "max(m1, m2)"
   ]
  },
  {
   "cell_type": "markdown",
   "id": "70799631",
   "metadata": {},
   "source": [
    "### Conductance"
   ]
  },
  {
   "cell_type": "code",
   "execution_count": 8,
   "id": "7237ee52",
   "metadata": {},
   "outputs": [
    {
     "data": {
      "text/plain": [
       "'P1 - C1: 0.2857142857142857 C2: 0.8571428571428571'"
      ]
     },
     "execution_count": 8,
     "metadata": {},
     "output_type": "execute_result"
    }
   ],
   "source": [
    "f\"P1 - C1: {conductance(g, p1[0])} C2: {conductance(g, p1[1])}\""
   ]
  },
  {
   "cell_type": "code",
   "execution_count": 9,
   "id": "8921725d",
   "metadata": {},
   "outputs": [
    {
     "data": {
      "text/plain": [
       "'P2 - C1: 0.7692307692307693 C2: 0.6666666666666666'"
      ]
     },
     "execution_count": 9,
     "metadata": {},
     "output_type": "execute_result"
    }
   ],
   "source": [
    "f\"P2 - C1: {conductance(g, p2[0])} C2: {conductance(g, p2[1])}\""
   ]
  },
  {
   "cell_type": "code",
   "execution_count": 10,
   "id": "5864c0d1",
   "metadata": {},
   "outputs": [
    {
     "data": {
      "text/plain": [
       "0.7692307692307693"
      ]
     },
     "execution_count": 10,
     "metadata": {},
     "output_type": "execute_result"
    }
   ],
   "source": [
    "c1 = max(conductance(g, p1[0]), conductance(g, p1[1]))\n",
    "c2 = max(conductance(g, p2[0]), conductance(g, p2[1]))\n",
    "\n",
    "min(c1,c2)"
   ]
  },
  {
   "cell_type": "markdown",
   "id": "156b51e5",
   "metadata": {},
   "source": [
    "## Exercise 2: Threshold Model [4 points]\n",
    "\n",
    "Given the Graph in Figure 1, apply the threshold model considering the following scenarios:\n",
    "\n",
    "\n",
    "<b>S1</b>\n",
    "\n",
    "-Set of initial infected nodes: Infected = \\{A\\}\n",
    "\n",
    "-- Threshold: $\\tau=\\frac{1}{2}$\n",
    "\n",
    "<b>S2</b>\n",
    "\n",
    "-Set of initial infected nodes: Infected = \\{I\\}\n",
    "\n",
    "--Threshold: $\\tau=\\frac{1}{3}$ if $degree(n)>2$ else $\\tau=\\frac{1}{5}$\n",
    "\n",
    "Consider a node infected at time $t$ if at least $\\tau\\%$ of its neighbors were already infected at $t-1$"
   ]
  },
  {
   "cell_type": "markdown",
   "id": "22f51e57",
   "metadata": {},
   "source": [
    "## S1"
   ]
  },
  {
   "cell_type": "code",
   "execution_count": 11,
   "id": "9aa65319",
   "metadata": {},
   "outputs": [
    {
     "name": "stdout",
     "output_type": "stream",
     "text": [
      "Iteration: 0 Infected: ['A']\n",
      "Iteration: 1 Infected: ['C', 'D', 'E', 'F', 'G', 'I']\n",
      "Iteration: 2 Infected: ['B', 'H']\n",
      "Iteration: 3 Infected: []\n",
      "Iteration: 4 Infected: []\n",
      "Iteration: 5 Infected: []\n",
      "Iteration: 6 Infected: []\n"
     ]
    }
   ],
   "source": [
    "import networkx as nx\n",
    "import ndlib.models.ModelConfig as mc\n",
    "import ndlib.models.epidemics as epd\n",
    "\n",
    "# Model selection\n",
    "model = epd.ThresholdModel(g)\n",
    "\n",
    "# Model Configuration\n",
    "config = mc.Configuration()\n",
    "config.add_model_initial_configuration(\"Infected\", ['A'])\n",
    "\n",
    "# Setting node parameters\n",
    "threshold = 1/2\n",
    "\n",
    "for i in g.nodes():\n",
    "    config.add_node_configuration(\"threshold\", i, threshold)\n",
    "\n",
    "model.set_initial_status(config)\n",
    "\n",
    "# Simulation execution\n",
    "iterations = model.iteration_bunch(7)\n",
    "for it in iterations:\n",
    "    infected = [i for i, v in it['status'].items() if v == 1]\n",
    "    print(f\"Iteration: {it['iteration']} Infected: {infected}\")"
   ]
  },
  {
   "cell_type": "markdown",
   "id": "82289d7a",
   "metadata": {},
   "source": [
    "## S2"
   ]
  },
  {
   "cell_type": "code",
   "execution_count": 12,
   "id": "4b7888b6",
   "metadata": {},
   "outputs": [
    {
     "name": "stdout",
     "output_type": "stream",
     "text": [
      "Iteration: 0 Infected: ['I']\n",
      "Iteration: 1 Infected: ['H']\n",
      "Iteration: 2 Infected: ['G']\n",
      "Iteration: 3 Infected: ['A']\n",
      "Iteration: 4 Infected: ['C', 'D', 'E', 'F']\n",
      "Iteration: 5 Infected: ['B']\n",
      "Iteration: 6 Infected: []\n"
     ]
    }
   ],
   "source": [
    "import networkx as nx\n",
    "import ndlib.models.ModelConfig as mc\n",
    "import ndlib.models.epidemics as epd\n",
    "\n",
    "# Model selection\n",
    "model = epd.ThresholdModel(g)\n",
    "\n",
    "# Model Configuration\n",
    "config = mc.Configuration()\n",
    "config.add_model_initial_configuration(\"Infected\", ['I'])\n",
    "\n",
    "# Setting node parameters\n",
    "threshold_1 = 1/3\n",
    "threshold_2 = 1/5\n",
    "\n",
    "for i in g.nodes():\n",
    "    if g.degree(i) > 2:\n",
    "        config.add_node_configuration(\"threshold\", i, threshold_1)\n",
    "    else:\n",
    "        config.add_node_configuration(\"threshold\", i, threshold_2)\n",
    "\n",
    "model.set_initial_status(config)\n",
    "\n",
    "# Simulation execution\n",
    "iterations = model.iteration_bunch(7)\n",
    "for it in iterations:\n",
    "    infected = [i for i, v in it['status'].items() if v == 1]\n",
    "    print(f\"Iteration: {it['iteration']} Infected: {infected}\")"
   ]
  },
  {
   "cell_type": "markdown",
   "id": "d2a9233c",
   "metadata": {},
   "source": [
    "## Exercise 3: Stream Graph [5 points]"
   ]
  },
  {
   "cell_type": "markdown",
   "id": "4ad98ea0",
   "metadata": {},
   "source": [
    "Given the stream graph in Figure 2, answer to the following questions:\n",
    "\n",
    "- The fastest path(s) between nodes 'a' and 'f' is/are:\n",
    "-- (A) [(a, b, 0), (b, e, 3), (e, f, 8)];\n",
    "-- <b>(B)</b> [(a, b, 2), (b, e, 5), (e, f, 8)];\n",
    "-- (C) [(a, b, 2), (b, e, 5), (e, f, 12)];\n",
    "-- <b>(D)</b> [(a, b, 2), (b, e, 7), (e, f, 8)].\n",
    "    \n",
    "\n",
    "- The foremost path(s) between nodes 'a' and 'f' is/are:\n",
    "-- <b>(A)</b> [(a, b, 0), (b, e, 3), (e, f, 8)];\n",
    "-- <b>(B)</b> [(a, b, 2), (b, e, 7), (e, f, 8)];\n",
    "-- (C) [(a, b, 2), (b, e, 7), (e, f, 12)];\n",
    "-- (D) [(a, b, 0), (b, e, 3), (e, f, 12)].\n",
    "  \n",
    "\n",
    "- Select the wrong sentence(s):\n",
    "-- <b>(A)</b> The stream graph in the figure is also a link stream because links appear only when nodes are already present;\n",
    "-- (B) $m = \\frac{23}{12}$;\n",
    "-- <b>(C)</b> There is no node having at least 1 neighbor in each time instant;\n",
    "-- (D) Node 'c' is present at time $t=12$.\n",
    "    \n",
    "\n",
    "- Any stream graph can be aggregated to be represented as a snapshot graph:\n",
    "-- <b>(A)</b> True\n",
    "-- (B) False\n",
    "\n",
    "\n",
    "- Due to their temporal nature, in stream graphs do not exist \"connected components\":\n",
    "-- (A) True\n",
    "-- <b>(B)</b> False"
   ]
  },
  {
   "cell_type": "markdown",
   "id": "25ed45c4",
   "metadata": {},
   "source": [
    "## Exercise 4: Open Question [3 points]"
   ]
  },
  {
   "cell_type": "markdown",
   "id": "75c1fb03",
   "metadata": {},
   "source": [
    "Discuss the possible role of assortative mixing in the formation of polarized environments. Feel free to discuss your preferred opinion dynamics model in relation to this topic."
   ]
  },
  {
   "cell_type": "code",
   "execution_count": null,
   "id": "6c05dba4",
   "metadata": {},
   "outputs": [],
   "source": []
  }
 ],
 "metadata": {
  "kernelspec": {
   "display_name": "Python 3 (ipykernel)",
   "language": "python",
   "name": "python3"
  },
  "language_info": {
   "codemirror_mode": {
    "name": "ipython",
    "version": 3
   },
   "file_extension": ".py",
   "mimetype": "text/x-python",
   "name": "python",
   "nbconvert_exporter": "python",
   "pygments_lexer": "ipython3",
   "version": "3.9.13"
  }
 },
 "nbformat": 4,
 "nbformat_minor": 5
}
