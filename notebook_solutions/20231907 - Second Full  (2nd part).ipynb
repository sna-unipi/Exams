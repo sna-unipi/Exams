{
 "cells": [
  {
   "cell_type": "markdown",
   "id": "74e9b5dd",
   "metadata": {},
   "source": [
    "# Social Network Analysis @ UNIPI\n",
    "### 19/07/2023"
   ]
  },
  {
   "cell_type": "code",
   "execution_count": 1,
   "id": "9d7911da",
   "metadata": {},
   "outputs": [],
   "source": [
    "import warnings\n",
    "warnings.filterwarnings('ignore')\n",
    "\n",
    "import networkx as nx\n",
    "import matplotlib.pyplot as plt\n",
    "import numpy as np\n",
    "%matplotlib inline"
   ]
  },
  {
   "cell_type": "markdown",
   "id": "acbc33cc",
   "metadata": {},
   "source": [
    "# Second Half"
   ]
  },
  {
   "cell_type": "markdown",
   "id": "ef782fd0",
   "metadata": {},
   "source": [
    "## Exercise 1: Community Evaluation [4 points]\n",
    "\n",
    "Given the Graph G in Figure 1, compare the following partitions:\n",
    "\n",
    "- P1: [ [A,C,E,H,I], [B,D,F,G,L] ]\n",
    "- P2: [ [A,B,D,E,F,G,L], [C,H,I] ]\n",
    "\n",
    "Which partition is the best with respect to Conductance? and with respect to Internal Edge Density (IED)?"
   ]
  },
  {
   "cell_type": "code",
   "execution_count": 2,
   "id": "51e41620",
   "metadata": {},
   "outputs": [
    {
     "data": {
      "image/png": "[encoded data removed]",
      "text/plain": [
       "<Figure size 432x288 with 1 Axes>"
      ]
     },
     "metadata": {},
     "output_type": "display_data"
    }
   ],
   "source": [
    "g = nx.Graph()\n",
    "\n",
    "g.add_edge('A', 'C')\n",
    "g.add_edge('B', 'D')\n",
    "g.add_edge('C', 'E')\n",
    "g.add_edge('F', 'G')\n",
    "g.add_edge('H', 'I')\n",
    "g.add_edge('B', 'G')\n",
    "g.add_edge('C', 'I')\n",
    "g.add_edge('C', 'H')\n",
    "g.add_edge('G', 'D')\n",
    "g.add_edge('E', 'A')\n",
    "g.add_edge('B', 'F')\n",
    "g.add_edge('G', 'C')\n",
    "g.add_edge('D', 'F')\n",
    "g.add_edge('D', 'L')\n",
    "g.add_edge('L', 'G')\n",
    "g.add_edge('C', 'B')\n",
    "g.add_edge('F', 'C')\n",
    "g.add_edge('F', 'L')\n",
    "g.add_edge('F', 'B')\n",
    "g.add_edge('F', 'A')\n",
    "g.add_edge('A', 'B')\n",
    "\n",
    "# Set the positions of nodes for visualization\n",
    "pos = nx.spring_layout(g)\n",
    "\n",
    "# Draw the graph\n",
    "nx.draw(g, pos, with_labels=True, edge_color='gray')\n",
    "nodes = nx.draw_networkx_nodes(g, pos, node_size=500, node_color='white')\n",
    "# Set edge color to red\n",
    "nodes.set_edgecolor('black')\n",
    "\n",
    "#plt.savefig('20231907_graph_second.png')"
   ]
  },
  {
   "cell_type": "code",
   "execution_count": 3,
   "id": "2f3ff41f",
   "metadata": {},
   "outputs": [],
   "source": [
    "p1 = [ ['A','C','E','H','I'], ['B','D','F','G','L'] ]\n",
    "p2 = [ ['A','B','D','E','F','G','L'], ['C','H','I'] ]"
   ]
  },
  {
   "cell_type": "code",
   "execution_count": 4,
   "id": "20b60a3f",
   "metadata": {},
   "outputs": [],
   "source": [
    "def conductance(graph, community):\n",
    "    gs = nx.subgraph(graph, community)\n",
    "    ec = gs.number_of_edges()\n",
    "    eoc = sum([len(list(graph.neighbors(u)))-len(list(gs.neighbors(u))) for u in community])\n",
    "    return (2*eoc)/((2*ec)+eoc)\n",
    "\n",
    "def ied(graph, community):\n",
    "    sg = nx.subgraph(graph, community)\n",
    "    ec = sg.number_of_edges()\n",
    "    vc = sg.number_of_nodes()\n",
    "    try:\n",
    "        return (2*ec)/(vc*(vc-1))\n",
    "    except:\n",
    "        return 0"
   ]
  },
  {
   "cell_type": "markdown",
   "id": "a73d8e05",
   "metadata": {},
   "source": [
    "### Conductance"
   ]
  },
  {
   "cell_type": "code",
   "execution_count": 5,
   "id": "39fc6a78",
   "metadata": {},
   "outputs": [
    {
     "data": {
      "text/plain": [
       "'P1 - C1: 0.5882352941176471 C2: 0.43478260869565216'"
      ]
     },
     "execution_count": 5,
     "metadata": {},
     "output_type": "execute_result"
    }
   ],
   "source": [
    "f\"P1 - C1: {conductance(g, p1[0])} C2: {conductance(g, p1[1])}\""
   ]
  },
  {
   "cell_type": "code",
   "execution_count": 6,
   "id": "29d54f8e",
   "metadata": {},
   "outputs": [
    {
     "data": {
      "text/plain": [
       "'P2 - C1: 0.3448275862068966 C2: 0.9090909090909091'"
      ]
     },
     "execution_count": 6,
     "metadata": {},
     "output_type": "execute_result"
    }
   ],
   "source": [
    "f\"P2 - C1: {conductance(g, p2[0])} C2: {conductance(g, p2[1])}\""
   ]
  },
  {
   "cell_type": "code",
   "execution_count": 7,
   "id": "4899e28e",
   "metadata": {},
   "outputs": [
    {
     "data": {
      "text/plain": [
       "0.5882352941176471"
      ]
     },
     "execution_count": 7,
     "metadata": {},
     "output_type": "execute_result"
    }
   ],
   "source": [
    "c1 = max(conductance(g, p1[0]), conductance(g, p1[1]))\n",
    "c2 = max(conductance(g, p2[0]), conductance(g, p2[1]))\n",
    "\n",
    "min(c1,c2)"
   ]
  },
  {
   "cell_type": "markdown",
   "id": "097a1e5d",
   "metadata": {},
   "source": [
    "### IED"
   ]
  },
  {
   "cell_type": "code",
   "execution_count": 8,
   "id": "b39f8a45",
   "metadata": {},
   "outputs": [
    {
     "data": {
      "text/plain": [
       "'P1 - C1: 0.6 C2: 0.9'"
      ]
     },
     "execution_count": 8,
     "metadata": {},
     "output_type": "execute_result"
    }
   ],
   "source": [
    "f\"P1 - C1: {ied(g, p1[0])} C2: {ied(g, p1[1])}\""
   ]
  },
  {
   "cell_type": "code",
   "execution_count": 9,
   "id": "04add27a",
   "metadata": {},
   "outputs": [
    {
     "data": {
      "text/plain": [
       "'P2 - C1: 0.5714285714285714 C2: 1.0'"
      ]
     },
     "execution_count": 9,
     "metadata": {},
     "output_type": "execute_result"
    }
   ],
   "source": [
    "f\"P2 - C1: {ied(g, p2[0])} C2: {ied(g, p2[1])}\""
   ]
  },
  {
   "cell_type": "code",
   "execution_count": 10,
   "id": "0488aa70",
   "metadata": {},
   "outputs": [
    {
     "data": {
      "text/plain": [
       "0.6"
      ]
     },
     "execution_count": 10,
     "metadata": {},
     "output_type": "execute_result"
    }
   ],
   "source": [
    "c1 = min(ied(g, p1[0]), ied(g, p1[1]))\n",
    "c2 = min(ied(g, p2[0]), ied(g, p2[1]))\n",
    "\n",
    "max(c1,c2)"
   ]
  },
  {
   "cell_type": "markdown",
   "id": "ed95b068",
   "metadata": {},
   "source": [
    "## Exercise 2: Link Prediction [4 points]"
   ]
  },
  {
   "cell_type": "markdown",
   "id": "7c1f5fd2",
   "metadata": {},
   "source": [
    "Given the Graph in Figure 1, consider the set $T=[[(A, F), (F, L), (C, I), (D, L)]]$. Solve the following exercises:\n",
    "\n",
    "1) Compute for all the links in the set the AdamicAdar and Preferential Attachment scores, then discuss the main differences in the results;\n",
    "\n",
    "2 Compute for all the links in the set the Jaccard score. Then, propose an asymmetric Jaccard score formalized as follows: <i> How many friends we share compared to the total number of my friends? </i> You should able to have a different score when measuring, for instance, $Jaccard(A,F)$ and $Jaccard(F,A)$. Discuss the main differences in the results."
   ]
  },
  {
   "cell_type": "code",
   "execution_count": 11,
   "id": "0afb091f",
   "metadata": {},
   "outputs": [],
   "source": [
    "T = [('A', 'F'), ('F', 'L'), ('C', 'I'), ('D', 'L')]"
   ]
  },
  {
   "cell_type": "code",
   "execution_count": 12,
   "id": "f39f558a",
   "metadata": {},
   "outputs": [],
   "source": [
    "#g.remove_edges_from(T)"
   ]
  },
  {
   "cell_type": "markdown",
   "id": "c54e8edd",
   "metadata": {},
   "source": [
    "### 1) AdamicAdar and Preferential Attachment"
   ]
  },
  {
   "cell_type": "code",
   "execution_count": 13,
   "id": "a0bcbb8d",
   "metadata": {},
   "outputs": [
    {
     "data": {
      "text/plain": [
       "[('C', 'I', 1.4426950408889634),\n",
       " ('F', 'L', 1.3426824550040934),\n",
       " ('D', 'L', 1.179445561110859),\n",
       " ('A', 'F', 1.1352332769293625)]"
      ]
     },
     "execution_count": 13,
     "metadata": {},
     "output_type": "execute_result"
    }
   ],
   "source": [
    "res = list(nx.adamic_adar_index(g, T))\n",
    "sorted(res, key=lambda x: -x[2])"
   ]
  },
  {
   "cell_type": "code",
   "execution_count": 14,
   "id": "72fec754",
   "metadata": {},
   "outputs": [
    {
     "data": {
      "text/plain": [
       "[('A', 'F', 24), ('F', 'L', 18), ('C', 'I', 14), ('D', 'L', 12)]"
      ]
     },
     "execution_count": 14,
     "metadata": {},
     "output_type": "execute_result"
    }
   ],
   "source": [
    "res = list(nx.preferential_attachment(g, T))\n",
    "sorted(res, key=lambda x: -x[2])"
   ]
  },
  {
   "cell_type": "markdown",
   "id": "b647a9e8",
   "metadata": {},
   "source": [
    "### 2) Jaccard and Directed Jaccard Variant"
   ]
  },
  {
   "cell_type": "code",
   "execution_count": 15,
   "id": "b0d20905",
   "metadata": {},
   "outputs": [],
   "source": [
    "def asym_jaccard(g, u, v):\n",
    "    n_u = set(g.neighbors(u))\n",
    "    n_v = set(g.neighbors(v))\n",
    "    cm = len(n_u & n_v)\n",
    "    \n",
    "    j_u = 0\n",
    "    j_v = 0\n",
    "    if len(n_u) == 1:\n",
    "        j_u = 0\n",
    "    elif len(n_v) == 1:\n",
    "        j_v = 0\n",
    "    else:\n",
    "        j_u = cm / (len(n_u)-1)\n",
    "        j_v = cm / (len(n_v)-1)\n",
    "        \n",
    "    return j_u, j_v"
   ]
  },
  {
   "cell_type": "code",
   "execution_count": 16,
   "id": "fa8af1bb",
   "metadata": {},
   "outputs": [
    {
     "data": {
      "text/plain": [
       "[('D', 'L', 0.4),\n",
       " ('F', 'L', 0.2857142857142857),\n",
       " ('A', 'F', 0.25),\n",
       " ('C', 'I', 0.125)]"
      ]
     },
     "execution_count": 16,
     "metadata": {},
     "output_type": "execute_result"
    }
   ],
   "source": [
    "res = list(nx.jaccard_coefficient(g, T))\n",
    "sorted(res, key=lambda x: -x[2])"
   ]
  },
  {
   "cell_type": "code",
   "execution_count": 17,
   "id": "cb9b31a8",
   "metadata": {},
   "outputs": [
    {
     "name": "stdout",
     "output_type": "stream",
     "text": [
      "['A', 'F', 0.6666666666666666] ['F', 'A', 0.4]\n",
      "['F', 'L', 0.4] ['L', 'F', 1.0]\n",
      "['C', 'I', 0.16666666666666666] ['I', 'C', 1.0]\n",
      "['D', 'L', 0.6666666666666666] ['L', 'D', 1.0]\n"
     ]
    }
   ],
   "source": [
    "for u, v in T:\n",
    "    print([u, v, asym_jaccard(g, u, v)[0]],\n",
    "          [v, u, asym_jaccard(g, v, u)[0]])"
   ]
  },
  {
   "cell_type": "markdown",
   "id": "510f548e",
   "metadata": {},
   "source": [
    "## Exercise 3: Stream Graph [5 points]"
   ]
  },
  {
   "cell_type": "markdown",
   "id": "d626e498",
   "metadata": {},
   "source": [
    "Given the stream graph in Figure:\n",
    "\n",
    "1) Compute the number of nodes and the number of links;\n",
    "\n",
    "2) Is there at least one \\emph{shortest path} between \"a\" and \"f\"? Is there at least one \\emph{fastest path}? Is there at least one \\emph{foremost path}?\n",
    "\n",
    "3) Is [('c', 'd', 0), ('d', 'e', 1)] a \\emph{fastest path}? Why/why not? Is [('c', 'd', 9), ('d', 'e', 10)] a \\emph{foremost path}? Why/why not? Is [('c', 'd', 9), ('d', 'e', 10)] a \\emph{fastest path}? Why/why not?\n",
    "\n",
    "4 Is the stream graph in the figure also a \\emph{link stream?} Why/why not?"
   ]
  },
  {
   "cell_type": "markdown",
   "id": "da6bf1d1",
   "metadata": {},
   "source": [
    "1) $n=\\frac{37}{12}$, $m=\\frac{24}{12}$\n",
    "\n",
    "2) (('a', 'b', 5), ('b', 'c', 6), ('c', 'd', 7), ('d', 'e', 10), ('e', 'f', 11))\n",
    "\n",
    "alternatively, ('c', 'd', 8) or ('c', 'd', 9)\n",
    "\n",
    "3) sì, no, sì\n",
    "\n",
    "4) no"
   ]
  },
  {
   "cell_type": "markdown",
   "id": "1bf8345a",
   "metadata": {},
   "source": [
    "## Exercise 4: Open Question [3 points]"
   ]
  },
  {
   "cell_type": "markdown",
   "id": "438c98c2",
   "metadata": {},
   "source": [
    "What are the community dynamics that a benchmark for dynamic community detection should model? Discuss some of them."
   ]
  },
  {
   "cell_type": "code",
   "execution_count": null,
   "id": "1fa2482d",
   "metadata": {},
   "outputs": [],
   "source": []
  }
 ],
 "metadata": {
  "kernelspec": {
   "display_name": "Python 3 (ipykernel)",
   "language": "python",
   "name": "python3"
  },
  "language_info": {
   "codemirror_mode": {
    "name": "ipython",
    "version": 3
   },
   "file_extension": ".py",
   "mimetype": "text/x-python",
   "name": "python",
   "nbconvert_exporter": "python",
   "pygments_lexer": "ipython3",
   "version": "3.7.4"
  }
 },
 "nbformat": 4,
 "nbformat_minor": 5
}
