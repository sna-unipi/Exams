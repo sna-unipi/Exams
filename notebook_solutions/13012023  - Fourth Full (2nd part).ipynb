{
 "cells": [
  {
   "cell_type": "markdown",
   "metadata": {},
   "source": [
    "# Social Network Analysis @ UNIPI\n",
    "### 13/01/2023 - second part (sull'overleaf: fourth_full(2stpart))"
   ]
  },
  {
   "cell_type": "code",
   "execution_count": 1,
   "metadata": {},
   "outputs": [],
   "source": [
    "import networkx as nx\n",
    "import matplotlib.pyplot as plt\n",
    "import numpy as np\n",
    "%matplotlib inline\n",
    "\n",
    "import warnings\n",
    "warnings.filterwarnings('ignore')"
   ]
  },
  {
   "cell_type": "markdown",
   "metadata": {},
   "source": [
    "## Ex. 1: Community Evaluation [5 points]\n",
    "\n",
    "Given the graph $\\mathcal{G}$, compare the following partitions.\n",
    "\n",
    "- $[(1,2,4,5,6),(3,7,8,9)]$\n",
    "- $[(1,2),(6,7,8), (3,4,5,9)]$\n",
    "\n",
    "Which partition is best with respect to the modularity score? which for conductance?"
   ]
  },
  {
   "cell_type": "code",
   "execution_count": 2,
   "metadata": {},
   "outputs": [],
   "source": [
    "g = nx.Graph()"
   ]
  },
  {
   "cell_type": "code",
   "execution_count": 19,
   "metadata": {},
   "outputs": [],
   "source": [
    "g.add_edge(1, 2)\n",
    "g.add_edge(4, 1)\n",
    "g.add_edge(6, 2)\n",
    "g.add_edge(8, 6)\n",
    "g.add_edge(4, 5)\n",
    "g.add_edge(5, 6)\n",
    "g.add_edge(6, 7)\n",
    "g.add_edge(7, 8)\n",
    "g.add_edge(8, 9)\n",
    "g.add_edge(9, 4)\n",
    "g.add_edge(4, 3)\n",
    "g.add_edge(5, 3)\n",
    "g.add_edge(8, 3)\n",
    "g.add_edge(9, 3)\n",
    "g.add_edge(2, 5)"
   ]
  },
  {
   "cell_type": "code",
   "execution_count": 20,
   "metadata": {},
   "outputs": [
    {
     "data": {
      "image/png": "[encoded data removed]",
      "text/plain": [
       "<Figure size 432x288 with 1 Axes>"
      ]
     },
     "metadata": {},
     "output_type": "display_data"
    }
   ],
   "source": [
    "nx.draw_spring(g, with_labels=True, node_color=\"w\")\n",
    "plt.savefig(\"net.png\")"
   ]
  },
  {
   "cell_type": "markdown",
   "metadata": {},
   "source": [
    "### Modularity"
   ]
  },
  {
   "cell_type": "code",
   "execution_count": 21,
   "metadata": {},
   "outputs": [],
   "source": [
    "def modularity(graph, community):\n",
    "    vc = len(community)\n",
    "    e = graph.number_of_edges()\n",
    "    degC = sum([i[1] for i in graph.degree(community)])\n",
    "    return ((vc/e) - (degC/(2*e)))**2"
   ]
  },
  {
   "cell_type": "code",
   "execution_count": 22,
   "metadata": {},
   "outputs": [
    {
     "data": {
      "text/plain": [
       "'P1 - C1: 0.05444444444444445 C2: 0.027777777777777783'"
      ]
     },
     "execution_count": 22,
     "metadata": {},
     "output_type": "execute_result"
    }
   ],
   "source": [
    "f\"P1 - C1: {modularity(g, [1, 2, 4, 5, 6])} C2: {modularity(g, [3, 7, 8, 9])}\""
   ]
  },
  {
   "cell_type": "code",
   "execution_count": 35,
   "metadata": {},
   "outputs": [
    {
     "data": {
      "text/plain": [
       "'P2 - C1: 0.0011111111111111107 C2: 0.027777777777777783 C3: 0.04000000000000001'"
      ]
     },
     "execution_count": 35,
     "metadata": {},
     "output_type": "execute_result"
    }
   ],
   "source": [
    "f\"P2 - C1: {modularity(g, [1, 2])} C2: {modularity(g, [6, 7, 8, 9])} C3: {modularity(g, [3, 4, 5])}\""
   ]
  },
  {
   "cell_type": "markdown",
   "metadata": {},
   "source": [
    "#### Best Partition (Modularity): P3"
   ]
  },
  {
   "cell_type": "code",
   "execution_count": 36,
   "metadata": {},
   "outputs": [
    {
     "data": {
      "text/plain": [
       "0.2"
      ]
     },
     "execution_count": 36,
     "metadata": {},
     "output_type": "execute_result"
    }
   ],
   "source": [
    "max(0.2, 0.001)"
   ]
  },
  {
   "cell_type": "markdown",
   "metadata": {},
   "source": [
    "### Conductance"
   ]
  },
  {
   "cell_type": "code",
   "execution_count": 25,
   "metadata": {},
   "outputs": [],
   "source": [
    "def conductance(graph, community):\n",
    "    gs = nx.subgraph(graph, community)\n",
    "    ec = gs.number_of_edges()\n",
    "    eoc = sum([len(list(graph.neighbors(u)))-len(list(gs.neighbors(u))) for u in community])\n",
    "    return (2*eoc)/((2*ec)+eoc)"
   ]
  },
  {
   "cell_type": "code",
   "execution_count": 26,
   "metadata": {},
   "outputs": [
    {
     "data": {
      "text/plain": [
       "'P1 - C1: 0.5882352941176471 C2: 0.7692307692307693'"
      ]
     },
     "execution_count": 26,
     "metadata": {},
     "output_type": "execute_result"
    }
   ],
   "source": [
    "f\"P1 - C1: {conductance(g, [1, 2, 4, 5, 6])} C2: {conductance(g, [3, 7, 8, 9])}\""
   ]
  },
  {
   "cell_type": "code",
   "execution_count": 37,
   "metadata": {},
   "outputs": [
    {
     "data": {
      "text/plain": [
       "'P2 - C1: 1.2 C2: 0.7692307692307693 C3: 1.0'"
      ]
     },
     "execution_count": 37,
     "metadata": {},
     "output_type": "execute_result"
    }
   ],
   "source": [
    "f\"P2 - C1: {conductance(g, [1, 2])} C2: {conductance(g, [6, 7, 8, 9])} C3: {conductance(g, [3, 4, 5])}\""
   ]
  },
  {
   "cell_type": "markdown",
   "metadata": {},
   "source": [
    "#### Best partition (conductance): P1"
   ]
  },
  {
   "cell_type": "code",
   "execution_count": 28,
   "metadata": {},
   "outputs": [
    {
     "data": {
      "text/plain": [
       "0.7692307692307693"
      ]
     },
     "execution_count": 28,
     "metadata": {},
     "output_type": "execute_result"
    }
   ],
   "source": [
    "min(0.7692307692307693, 1)"
   ]
  },
  {
   "cell_type": "markdown",
   "metadata": {},
   "source": [
    "## Ex. 2: Community Discovery [4 points]\n",
    "\n",
    "Given graph $\\mathcal{G}$, compute its communities applying k-clique for k=3,4.\n",
    "\n",
    "On the obtained partitions evaluate the coverage and internal edge density."
   ]
  },
  {
   "cell_type": "code",
   "execution_count": 29,
   "metadata": {},
   "outputs": [
    {
     "data": {
      "text/plain": [
       "[frozenset({2, 5, 6}), frozenset({3, 4, 5, 8, 9}), frozenset({6, 7, 8})]"
      ]
     },
     "execution_count": 29,
     "metadata": {},
     "output_type": "execute_result"
    }
   ],
   "source": [
    "from networkx.algorithms.community import k_clique_communities\n",
    "\n",
    "k3 = list(k_clique_communities(g, 3))\n",
    "k3 # complete coverage"
   ]
  },
  {
   "cell_type": "code",
   "execution_count": 30,
   "metadata": {},
   "outputs": [
    {
     "data": {
      "text/plain": [
       "[]"
      ]
     },
     "execution_count": 30,
     "metadata": {},
     "output_type": "execute_result"
    }
   ],
   "source": [
    "list(k_clique_communities(g, 4)) # empty coverage"
   ]
  },
  {
   "cell_type": "markdown",
   "metadata": {},
   "source": [
    "### Internal Edge Density"
   ]
  },
  {
   "cell_type": "code",
   "execution_count": 31,
   "metadata": {},
   "outputs": [],
   "source": [
    "def ied(graph, community):\n",
    "    sg = nx.subgraph(graph, community)\n",
    "    ec = sg.number_of_edges()\n",
    "    vc = sg.number_of_nodes()\n",
    "    return (2*ec)/(vc*(vc-1))"
   ]
  },
  {
   "cell_type": "code",
   "execution_count": 32,
   "metadata": {},
   "outputs": [
    {
     "data": {
      "text/plain": [
       "0.7"
      ]
     },
     "execution_count": 32,
     "metadata": {},
     "output_type": "execute_result"
    }
   ],
   "source": [
    "ed = []\n",
    "for com in k3:\n",
    "    \n",
    "    ed.append(ied(g, com))\n",
    "min(ed)"
   ]
  },
  {
   "cell_type": "markdown",
   "metadata": {},
   "source": [
    "## Es 3: Threshold Model [5 points]\n",
    "\n",
    "Given the graph $\\mathcal{G}$, applying the threshold model considering the following scenarios:\n",
    "\n",
    "- S1\n",
    "    - Set of initial infected nodes: I = {3}\n",
    "    - Node threshold $\\tau = \\frac{1}{3}$\n",
    "- S2\n",
    "    - Set of initial infected nodes: I = {1}\n",
    "    - Node threshold at iteration $t$ $\\tau_t = \\frac{1}{2+t}$\n",
    "  \n",
    "Consider a node infected at time $t$ iff at least $\\tau\\%$ of its neighbors were already infected at $t-1$."
   ]
  },
  {
   "cell_type": "markdown",
   "metadata": {},
   "source": [
    "### S1"
   ]
  },
  {
   "cell_type": "code",
   "execution_count": 33,
   "metadata": {},
   "outputs": [
    {
     "name": "stdout",
     "output_type": "stream",
     "text": [
      "Iteration: 0 Infected: [3]\n",
      "Iteration: 1 Infected: [9]\n",
      "Iteration: 2 Infected: [4, 8]\n",
      "Iteration: 3 Infected: [1, 5, 7]\n",
      "Iteration: 4 Infected: [2, 6]\n",
      "Iteration: 5 Infected: []\n"
     ]
    }
   ],
   "source": [
    "import networkx as nx\n",
    "import ndlib.models.ModelConfig as mc\n",
    "import ndlib.models.epidemics as epd\n",
    "\n",
    "# Model selection\n",
    "model = epd.ThresholdModel(g)\n",
    "\n",
    "# Model Configuration\n",
    "config = mc.Configuration()\n",
    "config.add_model_initial_configuration(\"Infected\", [3])\n",
    "\n",
    "# Setting node parameters\n",
    "threshold = 1/3\n",
    "for i in g.nodes():\n",
    "    config.add_node_configuration(\"threshold\", i, threshold)\n",
    "\n",
    "model.set_initial_status(config)\n",
    "\n",
    "# Simulation execution\n",
    "iterations = model.iteration_bunch(6)\n",
    "for it in iterations:\n",
    "    infected = [i for i, v in it['status'].items() if v == 1]\n",
    "    print(f\"Iteration: {it['iteration']} Infected: {infected}\")"
   ]
  },
  {
   "cell_type": "code",
   "execution_count": 34,
   "metadata": {},
   "outputs": [
    {
     "name": "stdout",
     "output_type": "stream",
     "text": [
      "Iteration: 0 Infected: [1]\n",
      "Iteration: 1 Infected: [2]\n",
      "Iteration: 2 Infected: [4, 6, 5]\n",
      "Iteration: 3 Infected: [8, 7, 9, 3]\n",
      "Iteration: 4 Infected: []\n"
     ]
    }
   ],
   "source": [
    "import networkx as nx\n",
    "import ndlib.models.ModelConfig as mc\n",
    "import ndlib.models.epidemics as epd\n",
    "\n",
    "# Model selection\n",
    "model = epd.ThresholdModel(g)\n",
    "\n",
    "# Model Configuration\n",
    "config = mc.Configuration()\n",
    "config.add_model_initial_configuration(\"Infected\", [1])\n",
    "\n",
    "model.set_initial_status(config)\n",
    "\n",
    "for t in range(5):\n",
    "    # threshold update\n",
    "    threshold = 1/(2+t)\n",
    "    for i in g.nodes():\n",
    "        config.add_node_configuration(\"threshold\", i, threshold)\n",
    "\n",
    "    it = model.iteration()\n",
    "    infected = [i for i, v in it['status'].items() if v == 1]\n",
    "    print(f\"Iteration: {it['iteration']} Infected: {infected}\")"
   ]
  },
  {
   "cell_type": "markdown",
   "metadata": {},
   "source": [
    "## Ex. 4: Open Question [2 points]\n",
    "What is the \"Achille's heals of scale free networks\"? Discuss its effects and applications; justify the reasons such property does not hold for random graphs."
   ]
  },
  {
   "cell_type": "code",
   "execution_count": null,
   "metadata": {},
   "outputs": [],
   "source": []
  }
 ],
 "metadata": {
  "anaconda-cloud": {},
  "kernelspec": {
   "display_name": "Python 3 (ipykernel)",
   "language": "python",
   "name": "python3"
  },
  "language_info": {
   "codemirror_mode": {
    "name": "ipython",
    "version": 3
   },
   "file_extension": ".py",
   "mimetype": "text/x-python",
   "name": "python",
   "nbconvert_exporter": "python",
   "pygments_lexer": "ipython3",
   "version": "3.9.13"
  },
  "vscode": {
   "interpreter": {
    "hash": "aee8b7b246df8f9039afb4144a1f6fd8d2ca17a180786b69acc140d282b71a49"
   }
  }
 },
 "nbformat": 4,
 "nbformat_minor": 4
}
